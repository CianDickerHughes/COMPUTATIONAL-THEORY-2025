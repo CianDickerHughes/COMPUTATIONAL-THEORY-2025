{
 "cells": [
  {
   "cell_type": "code",
   "execution_count": null,
   "id": "a090c955",
   "metadata": {},
   "outputs": [],
   "source": [
    "# NumPy.\n",
    "import numpy as np"
   ]
  },
  {
   "cell_type": "markdown",
   "id": "bc9ab0db",
   "metadata": {},
   "source": [
    "Problem 5: Passwords\n"
   ]
  },
  {
   "cell_type": "code",
   "execution_count": null,
   "id": "b616889a",
   "metadata": {},
   "outputs": [],
   "source": [
    "#Problem 5\n"
   ]
  }
 ],
 "metadata": {
  "language_info": {
   "name": "python"
  }
 },
 "nbformat": 4,
 "nbformat_minor": 5
}
