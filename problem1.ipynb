{
 "cells": [
  {
   "cell_type": "code",
   "execution_count": 1,
   "id": "c5882d49",
   "metadata": {},
   "outputs": [],
   "source": [
    "# Import the NumPy library for efficient numerical operations on arrays and integers.\n",
    "import numpy as np"
   ]
  },
  {
   "cell_type": "markdown",
   "id": "eb9ee136",
   "metadata": {},
   "source": [
    "Problem 1: Binary Words and Operations"
   ]
  },
  {
   "cell_type": "code",
   "execution_count": 2,
   "id": "bd207923",
   "metadata": {},
   "outputs": [],
   "source": [
    "# Parity returns 1 if an odd number of inputs are 1, else 0.\n",
    "def Parity(x, y, z):\n",
    "    \"\"\"\n",
    "    Implements the Parity function defined in the Secure Hash Standard.\n",
    "    Parity(x, y, z) = x XOR y XOR z\n",
    "    All operations are done as 32-bit integers.\n",
    "    \"\"\"\n",
    "    # Convert inputs to 32-bit integers to ensure correct bitwise operations.\n",
    "    x = np.int32(x)\n",
    "    y = np.int32(y)\n",
    "    z = np.int32(z)\n",
    "    # Perform XOR operation and return the result as a 32-bit integer.\n",
    "    return np.int32(x ^ y ^ z)"
   ]
  },
  {
   "cell_type": "code",
   "execution_count": 3,
   "id": "3106b138",
   "metadata": {},
   "outputs": [
    {
     "name": "stdout",
     "output_type": "stream",
     "text": [
      "150\n"
     ]
    }
   ],
   "source": [
    "# Example usage: Calculate the parity of three binary words.\n",
    "print(Parity(0b10101010, 0b11001100, 0b11110000))"
   ]
  },
  {
   "cell_type": "code",
   "execution_count": 4,
   "id": "e659bda2",
   "metadata": {},
   "outputs": [],
   "source": [
    "# Ch selects bits from y or z based on x: (x AND y) XOR (NOT x AND z), 32-bit ops.\n",
    "def Ch(x, y, z):\n",
    "    \"\"\"\n",
    "    Implements the Ch (Choose) function defined in the Secure Hash Standard.\n",
    "    Ch(x, y, z) = (x AND y) XOR (NOT x AND z)\n",
    "    All operations are done as 32-bit integers.\n",
    "    \"\"\"\n",
    "    # Convert inputs to 32-bit integers to ensure correct bitwise operations.\n",
    "    x = np.int32(x)\n",
    "    y = np.int32(y)\n",
    "    z = np.int32(z)\n",
    "    # Perform the Ch operation and return the result as a 32-bit integer.\n",
    "    return np.int32((x & y) ^ (~x & z))"
   ]
  },
  {
   "cell_type": "code",
   "execution_count": 5,
   "id": "912e59ec",
   "metadata": {},
   "outputs": [
    {
     "name": "stdout",
     "output_type": "stream",
     "text": [
      "216\n"
     ]
    }
   ],
   "source": [
    "# Example usage: Calculate the Ch function of three binary words.\n",
    "print(Ch(0b10101010, 0b11001100, 0b11110000))  "
   ]
  },
  {
   "cell_type": "code",
   "execution_count": 6,
   "id": "96fd26cb",
   "metadata": {},
   "outputs": [],
   "source": [
    "# Maj returns 1 if at least two inputs are 1, else 0.\n",
    "def Maj(x, y, z):\n",
    "    \"\"\"\n",
    "    Implements the Maj (Majority) function defined in the Secure Hash Standard.\n",
    "    Maj(x, y, z) = (x AND y) XOR (x AND z) XOR (y AND z)\n",
    "    All operations are done as 32-bit integers.\n",
    "    \"\"\"\n",
    "    # Convert inputs to 32-bit integers to ensure correct bitwise operations.\n",
    "    x = np.int32(x)\n",
    "    y = np.int32(y)\n",
    "    z = np.int32(z)\n",
    "    # Perform the Maj operation and return the result as a 32-bit integer.\n",
    "    return np.int32((x & y) ^ (x & z) ^ (y & z))"
   ]
  },
  {
   "cell_type": "code",
   "execution_count": 7,
   "id": "746f42ca",
   "metadata": {},
   "outputs": [
    {
     "name": "stdout",
     "output_type": "stream",
     "text": [
      "232\n"
     ]
    }
   ],
   "source": [
    "# Example usage: Calculate the Maj function of three binary words.\n",
    "print(Maj(0b10101010, 0b11001100, 0b11110000))"
   ]
  },
  {
   "cell_type": "code",
   "execution_count": null,
   "id": "bbb34a5d",
   "metadata": {},
   "outputs": [],
   "source": [
    "# Sigma0 function as defined in the Secure Hash Standard.\n",
    "def Sigma0(x):\n",
    "    \"\"\"\n",
    "    Implements the Σ0 (Sigma0) function defined in the Secure Hash Standard.\n",
    "    Σ0(x) = ROTR^2(x) XOR ROTR^13(x) XOR ROTR^22(x)\n",
    "    All operations are done as 32-bit integers.\n",
    "    \"\"\"\n",
    "    # Convert input to a 32-bit unsigned integer to ensure correct bitwise operations.\n",
    "    x = np.uint32(x)\n",
    "    # Perform the rotations and XOR operations.\n",
    "    rotr2 = np.int32((x >> 2) | (x << (32 - 2)))\n",
    "    rotr13 = np.int32((x >> 13) | (x << (32 - 13)))\n",
    "    rotr22 = np.int32((x >> 22) | (x << (32 - 22)))\n",
    "    # Return the result as a 32-bit integer.\n",
    "    return np.int32(rotr2 ^ rotr13 ^ rotr22)"
   ]
  },
  {
   "cell_type": "code",
   "execution_count": 14,
   "id": "c241c065",
   "metadata": {},
   "outputs": [
    {
     "name": "stdout",
     "output_type": "stream",
     "text": [
      "1431655765\n"
     ]
    }
   ],
   "source": [
    "# Example usage: Calculate the Sigma0 function of a binary word.\n",
    "print(Sigma0(0b10101010101010101010101010101010))"
   ]
  }
 ],
 "metadata": {
  "kernelspec": {
   "display_name": "Python 3",
   "language": "python",
   "name": "python3"
  },
  "language_info": {
   "codemirror_mode": {
    "name": "ipython",
    "version": 3
   },
   "file_extension": ".py",
   "mimetype": "text/x-python",
   "name": "python",
   "nbconvert_exporter": "python",
   "pygments_lexer": "ipython3",
   "version": "3.12.1"
  }
 },
 "nbformat": 4,
 "nbformat_minor": 5
}
