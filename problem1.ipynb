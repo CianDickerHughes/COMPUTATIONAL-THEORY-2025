{
 "cells": [
  {
   "cell_type": "code",
   "execution_count": null,
   "id": "c5882d49",
   "metadata": {},
   "outputs": [],
   "source": [
    "# Import the NumPy library for efficient numerical operations on arrays and integers.\n",
    "import numpy as np"
   ]
  },
  {
   "cell_type": "markdown",
   "id": "eb9ee136",
   "metadata": {},
   "source": [
    "Problem 1: Binary Words and Operations"
   ]
  },
  {
   "cell_type": "code",
   "execution_count": null,
   "id": "bd207923",
   "metadata": {},
   "outputs": [],
   "source": [
    "def Parity(x, y, z):\n",
    "    \"\"\"\n",
    "    Implements the Parity function defined in the Secure Hash Standard.\n",
    "    Parity(x, y, z) = x XOR y XOR z\n",
    "    All operations are done as 32-bit integers.\n",
    "    \"\"\"\n",
    "    # Convert inputs to 32-bit integers to ensure correct bitwise operations.\n",
    "    x = np.int32(x)\n",
    "    y = np.int32(y)\n",
    "    z = np.int32(z)\n",
    "    # Perform XOR operation and return the result as a 32-bit integer.\n",
    "    return np.int32(x ^ y ^ z)"
   ]
  },
  {
   "cell_type": "code",
   "execution_count": null,
   "id": "3106b138",
   "metadata": {},
   "outputs": [
    {
     "name": "stdout",
     "output_type": "stream",
     "text": [
      "150\n"
     ]
    }
   ],
   "source": [
    "# Example usage: Calculate the parity of three binary words.\n",
    "print(Parity(0b10101010, 0b11001100, 0b11110000))"
   ]
  },
  {
   "cell_type": "code",
   "execution_count": null,
   "id": "e659bda2",
   "metadata": {},
   "outputs": [],
   "source": []
  },
  {
   "cell_type": "code",
   "execution_count": null,
   "id": "912e59ec",
   "metadata": {},
   "outputs": [],
   "source": []
  },
  {
   "cell_type": "code",
   "execution_count": null,
   "id": "96fd26cb",
   "metadata": {},
   "outputs": [],
   "source": []
  },
  {
   "cell_type": "code",
   "execution_count": null,
   "id": "746f42ca",
   "metadata": {},
   "outputs": [],
   "source": [
    "\n"
   ]
  },
  {
   "cell_type": "code",
   "execution_count": null,
   "id": "bbb34a5d",
   "metadata": {},
   "outputs": [],
   "source": []
  }
 ],
 "metadata": {
  "kernelspec": {
   "display_name": "Python 3",
   "language": "python",
   "name": "python3"
  },
  "language_info": {
   "codemirror_mode": {
    "name": "ipython",
    "version": 3
   },
   "file_extension": ".py",
   "mimetype": "text/x-python",
   "name": "python",
   "nbconvert_exporter": "python",
   "pygments_lexer": "ipython3",
   "version": "3.12.1"
  }
 },
 "nbformat": 4,
 "nbformat_minor": 5
}
