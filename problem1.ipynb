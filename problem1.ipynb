{
 "cells": [
  {
   "cell_type": "code",
   "execution_count": 68,
   "id": "c5882d49",
   "metadata": {},
   "outputs": [],
   "source": [
    "# Import the NumPy library for efficient numerical operations on arrays and integers.\n",
    "import numpy as np"
   ]
  },
  {
   "cell_type": "markdown",
   "id": "eb9ee136",
   "metadata": {},
   "source": [
    "Problem 1: Binary Words and Operations"
   ]
  },
  {
   "cell_type": "code",
   "execution_count": 69,
   "id": "bd207923",
   "metadata": {},
   "outputs": [],
   "source": [
    "# Parity returns 1 if an odd number of inputs are 1, else 0.\n",
    "def Parity(x, y, z):\n",
    "    \"\"\"\n",
    "    Implements the Parity function defined in the Secure Hash Standard.\n",
    "    Parity(x, y, z) = x XOR y XOR z\n",
    "    All operations are done as 32-bit integers.\n",
    "    \"\"\"\n",
    "    # Convert inputs to 32-bit integers to ensure correct bitwise operations.\n",
    "    x = np.int32(x)\n",
    "    y = np.int32(y)\n",
    "    z = np.int32(z)\n",
    "    # Perform XOR operation and return the result as a 32-bit integer.\n",
    "    return np.int32(x ^ y ^ z)"
   ]
  },
  {
   "cell_type": "code",
   "execution_count": 70,
   "id": "3106b138",
   "metadata": {},
   "outputs": [
    {
     "name": "stdout",
     "output_type": "stream",
     "text": [
      "150\n"
     ]
    }
   ],
   "source": [
    "# Example usage: Calculate the parity of three binary words.\n",
    "print(Parity(0b10101010, 0b11001100, 0b11110000))"
   ]
  },
  {
   "cell_type": "code",
   "execution_count": 71,
   "id": "e659bda2",
   "metadata": {},
   "outputs": [],
   "source": [
    "# Ch selects bits from y or z based on x: (x AND y) XOR (NOT x AND z), 32-bit ops.\n",
    "def Ch(x, y, z):\n",
    "    \"\"\"\n",
    "    Implements the Ch (Choose) function defined in the Secure Hash Standard.\n",
    "    Ch(x, y, z) = (x AND y) XOR (NOT x AND z)\n",
    "    All operations are done as 32-bit integers.\n",
    "    \"\"\"\n",
    "    # Convert inputs to 32-bit integers to ensure correct bitwise operations.\n",
    "    x = np.int32(x)\n",
    "    y = np.int32(y)\n",
    "    z = np.int32(z)\n",
    "    # Perform the Ch operation and return the result as a 32-bit integer.\n",
    "    return np.int32((x & y) ^ (~x & z))"
   ]
  },
  {
   "cell_type": "code",
   "execution_count": 72,
   "id": "912e59ec",
   "metadata": {},
   "outputs": [
    {
     "name": "stdout",
     "output_type": "stream",
     "text": [
      "216\n"
     ]
    }
   ],
   "source": [
    "# Example usage: Calculate the Ch function of three binary words.\n",
    "print(Ch(0b10101010, 0b11001100, 0b11110000))  "
   ]
  },
  {
   "cell_type": "code",
   "execution_count": 73,
   "id": "96fd26cb",
   "metadata": {},
   "outputs": [],
   "source": [
    "# Maj returns 1 if at least two inputs are 1, else 0.\n",
    "def Maj(x, y, z):\n",
    "    \"\"\"\n",
    "    Implements the Maj (Majority) function defined in the Secure Hash Standard.\n",
    "    Maj(x, y, z) = (x AND y) XOR (x AND z) XOR (y AND z)\n",
    "    All operations are done as 32-bit integers.\n",
    "    \"\"\"\n",
    "    # Convert inputs to 32-bit integers to ensure correct bitwise operations.\n",
    "    x = np.int32(x)\n",
    "    y = np.int32(y)\n",
    "    z = np.int32(z)\n",
    "    # Perform the Maj operation and return the result as a 32-bit integer.\n",
    "    return np.int32((x & y) ^ (x & z) ^ (y & z))"
   ]
  },
  {
   "cell_type": "code",
   "execution_count": 74,
   "id": "746f42ca",
   "metadata": {},
   "outputs": [
    {
     "name": "stdout",
     "output_type": "stream",
     "text": [
      "232\n"
     ]
    }
   ],
   "source": [
    "# Example usage: Calculate the Maj function of three binary words.\n",
    "print(Maj(0b10101010, 0b11001100, 0b11110000))"
   ]
  },
  {
   "cell_type": "code",
   "execution_count": 75,
   "id": "9fe5f227",
   "metadata": {},
   "outputs": [],
   "source": [
    "# Rotr rotates bits of x to the right by n positions, 32-bit ops.\n",
    "def Rotr(x, num):\n",
    "    \"\"\"\n",
    "    Implements the Rotr (Rotate right) function defined in the Secure Hash Standard.\n",
    "    Rotr(n, x) = (x right rotated by n bits)\n",
    "    All operations are done as 32-bit integers.\n",
    "    \"\"\"\n",
    "    # Convert input to 32-bit integer to ensure correct bitwise operations.\n",
    "    return np.int32((x >> num) | (x << (32 - num)))"
   ]
  },
  {
   "cell_type": "code",
   "execution_count": 76,
   "id": "031a4626",
   "metadata": {},
   "outputs": [],
   "source": [
    "def Shr(x, num):\n",
    "    \"\"\"\n",
    "    Implements the Shr (Shift right) function defined in the Secure Hash Standard.\n",
    "    Shr(n, x) = (x right shifted by n bits)\n",
    "    All operations are done as 32-bit integers.\n",
    "    \"\"\"\n",
    "    # Convert input to 32-bit integer to ensure correct bitwise operations.\n",
    "    return np.int32(x >> num)"
   ]
  },
  {
   "cell_type": "code",
   "execution_count": 77,
   "id": "bbb34a5d",
   "metadata": {},
   "outputs": [],
   "source": [
    "# Sigma0 function as defined in the Secure Hash Standard.\n",
    "def Sigma0(x):\n",
    "    \"\"\"\n",
    "    Implements the Σ0 (Sigma0) function defined in the Secure Hash Standard.\n",
    "    Σ0(x) = ROTR^2(x) XOR ROTR^13(x) XOR ROTR^22(x)\n",
    "    All operations are done as 32-bit integers.\n",
    "    \"\"\"\n",
    "    # Convert input to a 32-bit unsigned integer to ensure correct bitwise operations.\n",
    "    x = np.uint32(x)\n",
    "    # Perform the rotations and XOR operations.\n",
    "    rotr2 = Rotr(x, 2)\n",
    "    rotr13 = Rotr(x, 13)\n",
    "    rotr22 = Rotr(x, 22)\n",
    "    # Return the result as a 32-bit integer.\n",
    "    return np.int32(rotr2 ^ rotr13 ^ rotr22)"
   ]
  },
  {
   "cell_type": "code",
   "execution_count": 78,
   "id": "c241c065",
   "metadata": {},
   "outputs": [
    {
     "name": "stdout",
     "output_type": "stream",
     "text": [
      "1431655765\n"
     ]
    }
   ],
   "source": [
    "# Example usage: Calculate the Sigma0 function of a binary word.\n",
    "print(Sigma0(0b10101010101010101010101010101010))"
   ]
  },
  {
   "cell_type": "code",
   "execution_count": 79,
   "id": "39a08e34",
   "metadata": {},
   "outputs": [],
   "source": [
    "# Sigma1 function as defined in the Secure Hash Standard.\n",
    "def Sigma1(x):\n",
    "    \"\"\"\n",
    "    Implements the Σ1 (Sigma1) function defined in the Secure Hash Standard.\n",
    "    Σ1(x) = ROTR^6(x) XOR ROTR^11(x) XOR ROTR^25(x)\n",
    "    All operations are done as 32-bit integers.\n",
    "    \"\"\"\n",
    "    # Convert input to a 32-bit unsigned integer to ensure correct bitwise operations.\n",
    "    x = np.uint32(x)\n",
    "    # Perform the rotations and XOR operations.\n",
    "    rotr6 = Rotr(x, 6)\n",
    "    rotr11 = Rotr(x, 11)\n",
    "    rotr25 = Rotr(x, 25)\n",
    "    # Return the result as a 32-bit integer.\n",
    "    return np.int32(rotr6 ^ rotr11 ^ rotr25)"
   ]
  },
  {
   "cell_type": "code",
   "execution_count": 80,
   "id": "964e88a3",
   "metadata": {},
   "outputs": [
    {
     "name": "stdout",
     "output_type": "stream",
     "text": [
      "-1431655766\n"
     ]
    }
   ],
   "source": [
    "print(Sigma1(0b10101010101010101010101010101010))"
   ]
  },
  {
   "cell_type": "code",
   "execution_count": 81,
   "id": "a69caaad",
   "metadata": {},
   "outputs": [],
   "source": [
    "# sigma0 function as defined in the Secure Hash Standard.\n",
    "def sigma0(x):\n",
    "    \"\"\"\n",
    "    Implements the σ0 (sigma0) function defined in the Secure Hash Standard.\n",
    "    σ0(x) = ROTR^7(x) XOR ROTR^18(x) XOR SHR^3(x)\n",
    "    All operations are done as 32-bit integers.\n",
    "    \"\"\"\n",
    "    # Convert input to a 32-bit unsigned integer to ensure correct bitwise operations.\n",
    "    x = np.uint32(x)\n",
    "    # Perform the rotations and shift operations.\n",
    "    rotr7 = Rotr(x, 7)\n",
    "    rotr18 = Rotr(x, 18)\n",
    "    shr3 = Shr(x, 3)\n",
    "    # Return the result as a 32-bit integer.\n",
    "    return np.int32(rotr7 ^ rotr18 ^ shr3)"
   ]
  },
  {
   "cell_type": "code",
   "execution_count": 82,
   "id": "a1c7ccc4",
   "metadata": {},
   "outputs": [
    {
     "name": "stdout",
     "output_type": "stream",
     "text": [
      "-357913942\n"
     ]
    }
   ],
   "source": [
    "# Example usage: Calculate the sigma0 function of a binary word.\n",
    "print(sigma0(0b10101010101010101010101010101010))"
   ]
  },
  {
   "cell_type": "code",
   "execution_count": 83,
   "id": "d1c1357e",
   "metadata": {},
   "outputs": [],
   "source": [
    "def sigma1(x):\n",
    "    \"\"\"\n",
    "    Implements the σ1 (sigma1) function defined in the Secure Hash Standard.\n",
    "    σ1(x) = ROTR^17(x) XOR ROTR^19(x) XOR SHR^10(x)\n",
    "    All operations are done as 32-bit integers.\n",
    "    \"\"\"\n",
    "    # Convert input to a 32-bit unsigned integer to ensure correct bitwise operations.\n",
    "    x = np.uint32(x)\n",
    "    # Perform the rotations and shift operations.\n",
    "    rotr17 = Rotr(x, 17)\n",
    "    rotr19 = Rotr(x, 19)\n",
    "    shr10 = Shr(x, 10)\n",
    "    # Return the result as a 32-bit integer.\n",
    "    return np.int32(rotr17 ^ rotr19 ^ shr10)"
   ]
  },
  {
   "cell_type": "code",
   "execution_count": 84,
   "id": "50048ef1",
   "metadata": {},
   "outputs": [
    {
     "name": "stdout",
     "output_type": "stream",
     "text": [
      "-1431655766\n"
     ]
    }
   ],
   "source": [
    "# Example usage: Calculate the Sigma0 function of a binary word.\n",
    "print(Sigma1(0b10101010101010101010101010101010))"
   ]
  }
 ],
 "metadata": {
  "kernelspec": {
   "display_name": "Python 3",
   "language": "python",
   "name": "python3"
  },
  "language_info": {
   "codemirror_mode": {
    "name": "ipython",
    "version": 3
   },
   "file_extension": ".py",
   "mimetype": "text/x-python",
   "name": "python",
   "nbconvert_exporter": "python",
   "pygments_lexer": "ipython3",
   "version": "3.12.1"
  }
 },
 "nbformat": 4,
 "nbformat_minor": 5
}
