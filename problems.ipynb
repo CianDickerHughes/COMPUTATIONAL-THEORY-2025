{
 "cells": [
  {
   "cell_type": "code",
   "execution_count": null,
   "id": "c5882d49",
   "metadata": {},
   "outputs": [],
   "source": [
    "import numpy as np\n"
   ]
  },
  {
   "cell_type": "markdown",
   "id": "eb9ee136",
   "metadata": {},
   "source": [
    "Problem 1: Binary Words and Operations"
   ]
  },
  {
   "cell_type": "code",
   "execution_count": null,
   "id": "bd207923",
   "metadata": {},
   "outputs": [],
   "source": [
    "#Problem 1\n"
   ]
  },
  {
   "cell_type": "markdown",
   "id": "49cf6f6e",
   "metadata": {},
   "source": [
    "Problem 2: Fractional Parts of Cube Roots\n"
   ]
  },
  {
   "cell_type": "code",
   "execution_count": null,
   "id": "3106b138",
   "metadata": {},
   "outputs": [],
   "source": [
    "#Problem 2\n"
   ]
  },
  {
   "cell_type": "markdown",
   "id": "c319e01c",
   "metadata": {},
   "source": [
    "Problem 3: Padding\n"
   ]
  },
  {
   "cell_type": "code",
   "execution_count": null,
   "id": "96fd26cb",
   "metadata": {},
   "outputs": [],
   "source": [
    "#Problem 3\n"
   ]
  },
  {
   "cell_type": "markdown",
   "id": "6601ce73",
   "metadata": {},
   "source": [
    "Problem 4: Hashes\n"
   ]
  },
  {
   "cell_type": "code",
   "execution_count": null,
   "id": "746f42ca",
   "metadata": {},
   "outputs": [],
   "source": [
    "#Problem 4\n"
   ]
  },
  {
   "cell_type": "markdown",
   "id": "5d85bfb2",
   "metadata": {},
   "source": [
    "Problem 5: Passwords\n"
   ]
  },
  {
   "cell_type": "code",
   "execution_count": null,
   "id": "bbb34a5d",
   "metadata": {},
   "outputs": [],
   "source": [
    "#Problem 5\n"
   ]
  }
 ],
 "metadata": {
  "kernelspec": {
   "display_name": "Python 3",
   "language": "python",
   "name": "python3"
  },
  "language_info": {
   "codemirror_mode": {
    "name": "ipython",
    "version": 3
   },
   "file_extension": ".py",
   "mimetype": "text/x-python",
   "name": "python",
   "nbconvert_exporter": "python",
   "pygments_lexer": "ipython3",
   "version": "3.12.1"
  }
 },
 "nbformat": 4,
 "nbformat_minor": 5
}
