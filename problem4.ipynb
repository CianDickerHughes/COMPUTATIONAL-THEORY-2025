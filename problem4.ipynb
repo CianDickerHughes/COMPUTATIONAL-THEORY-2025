{
 "cells": [
  {
   "cell_type": "code",
   "execution_count": null,
   "id": "4d09fa01",
   "metadata": {},
   "outputs": [],
   "source": [
    "# NumPy.\n",
    "import numpy as np"
   ]
  },
  {
   "cell_type": "markdown",
   "id": "fd51b0f9",
   "metadata": {},
   "source": [
    "Problem 4: Hashes\n"
   ]
  },
  {
   "cell_type": "code",
   "execution_count": null,
   "id": "0f3a3038",
   "metadata": {},
   "outputs": [],
   "source": [
    "# Problem 4"
   ]
  }
 ],
 "metadata": {
  "language_info": {
   "name": "python"
  }
 },
 "nbformat": 4,
 "nbformat_minor": 5
}
