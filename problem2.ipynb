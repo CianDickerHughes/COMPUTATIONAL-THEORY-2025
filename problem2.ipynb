{
 "cells": [
  {
   "cell_type": "code",
   "execution_count": null,
   "id": "d079a48f",
   "metadata": {},
   "outputs": [],
   "source": [
    "# NumPy.\n",
    "import numpy as np"
   ]
  },
  {
   "cell_type": "markdown",
   "id": "dfd59e4d",
   "metadata": {},
   "source": [
    "Problem 2: Fractional Parts of Cube Roots\n"
   ]
  },
  {
   "cell_type": "code",
   "execution_count": null,
   "id": "4d591ae2",
   "metadata": {},
   "outputs": [],
   "source": [
    "#Problem 2\n"
   ]
  }
 ],
 "metadata": {
  "language_info": {
   "name": "python"
  }
 },
 "nbformat": 4,
 "nbformat_minor": 5
}
