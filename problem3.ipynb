{
 "cells": [
  {
   "cell_type": "code",
   "execution_count": null,
   "id": "bad31d02",
   "metadata": {},
   "outputs": [],
   "source": [
    "# NumPy.\n",
    "import numpy as np"
   ]
  },
  {
   "cell_type": "markdown",
   "id": "bf20b8cd",
   "metadata": {},
   "source": [
    "Problem 3: Padding\n"
   ]
  },
  {
   "cell_type": "code",
   "execution_count": null,
   "id": "16d4f44b",
   "metadata": {},
   "outputs": [],
   "source": [
    "#Problem 3\n"
   ]
  }
 ],
 "metadata": {
  "language_info": {
   "name": "python"
  }
 },
 "nbformat": 4,
 "nbformat_minor": 5
}
